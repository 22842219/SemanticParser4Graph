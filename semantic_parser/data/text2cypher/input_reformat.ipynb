{
 "cells": [
  {
   "cell_type": "code",
   "execution_count": 4,
   "metadata": {},
   "outputs": [],
   "source": [
    "import json, codecs, os\n",
    "import sqlite3"
   ]
  },
  {
   "cell_type": "code",
   "execution_count": 5,
   "metadata": {},
   "outputs": [],
   "source": [
    "nodes_fpath = os.getcwd() + '/raw_graph_schema/node_properties.json'\n",
    "rels_fpath = os.getcwd() + '/raw_graph_schema/rel_properties.json'"
   ]
  },
  {
   "cell_type": "code",
   "execution_count": 6,
   "metadata": {},
   "outputs": [
    {
     "name": "stdout",
     "output_type": "stream",
     "text": [
      "department_management department SELECT DISTINCT `Name` FROM `department`\n",
      "department_management department SELECT DISTINCT `Creation` FROM `department`\n",
      "department_management department SELECT DISTINCT `Department_ID` FROM `department`\n",
      "department_management department SELECT DISTINCT `Ranking` FROM `department`\n",
      "department_management department SELECT DISTINCT `Budget_in_Billions` FROM `department`\n",
      "department_management department SELECT DISTINCT `Num_Employees` FROM `department`\n",
      "department_management head SELECT DISTINCT `name` FROM `head`\n",
      "department_management head SELECT DISTINCT `born_state` FROM `head`\n",
      "department_management head SELECT DISTINCT `age` FROM `head`\n",
      "department_management head SELECT DISTINCT `head_ID` FROM `head`\n",
      "department_management management SELECT DISTINCT `temporary_acting` FROM `management`\n"
     ]
    }
   ],
   "source": [
    "\n",
    "db_fpath =  '/home/22842219/Desktop/projects_data/spider/database'\n",
    "sorted_schema = {} # {'db_id': {'a':[], 'b':[]}}\n",
    "for fpath in [nodes_fpath, rels_fpath]:\n",
    "    with codecs.open(fpath, 'r', 'utf-8-sig') as f:\n",
    "        data = json.load(f)\n",
    "        for every in data:\n",
    "            if 'nodeType' in every:\n",
    "                tag = every['nodeType']\n",
    "            elif 'relType' in every:\n",
    "                tag = every['relType']\n",
    "            tag_seps = tag.strip(':').strip(\"`\").split('.')\n",
    "            db_id = tag_seps[0]\n",
    "            if db_id not in sorted_schema:\n",
    "                sorted_schema[db_id]={}\n",
    "                sorted_schema[db_id]['property_types']=[]\n",
    "            if tag not in sorted_schema[db_id]:\n",
    "                sorted_schema[db_id][tag]= []\n",
    "\n",
    "            if isinstance(every['propertyTypes'], list) and len(every['propertyTypes'])==1:\n",
    "                sorted_schema[db_id]['property_types'].append('_'.join(every['propertyTypes']))\n",
    "            else:\n",
    "                sorted_schema[db_id]['property_types'].append(every['propertyTypes'])\n",
    "                \n",
    "            # use sqlite cursor to get field values. \n",
    "            # we use the concept of picklist to save field values.\n",
    "            if db_id == 'department_management':\n",
    "                tag_name = tag_seps[1]\n",
    "                db_path = os.path.join(db_fpath, db_id, '{}.sqlite'.format(db_id))\n",
    "                if every['propertyName']:\n",
    "                    fetch_sql = \"SELECT DISTINCT `{}` FROM `{}`\".format(every['propertyName'], tag_name)\n",
    "                    print(db_id, tag_name, fetch_sql)\n",
    "                    try:\n",
    "                        conn = sqlite3.connect(db_path)\n",
    "                        conn.text_factory = bytes\n",
    "                        c = conn.cursor()\n",
    "                        c.execute(fetch_sql)\n",
    "                        picklist = set()\n",
    "                        # print(c.fetchall())\n",
    "                        for x in c.fetchall():\n",
    "                            if isinstance(x[0], str):\n",
    "                                picklist.add(x[0].encode(\"utf-8\"))\n",
    "                            elif isinstance(x[0], bytes):\n",
    "                                try:\n",
    "                                    picklist.add(x[0].decode(\"utf-8\"))\n",
    "                                except UnicodeDecodeError:\n",
    "                                    picklist.add(x[0].decode(\"latin-1\"))\n",
    "                            else:\n",
    "                                picklist.add(x[0])\n",
    "                        picklist = list(picklist)\n",
    "                    finally:\n",
    "                        conn.close()\n",
    "                    sorted_schema[db_id][tag].append({every['propertyName']: picklist})\n",
    "\n"
   ]
  },
  {
   "cell_type": "code",
   "execution_count": null,
   "metadata": {},
   "outputs": [],
   "source": []
  },
  {
   "cell_type": "code",
   "execution_count": 7,
   "metadata": {},
   "outputs": [
    {
     "data": {
      "text/plain": [
       "{'property_types': ['String',\n",
       "  'String',\n",
       "  'Long',\n",
       "  'Long',\n",
       "  'Double',\n",
       "  'Double',\n",
       "  'String',\n",
       "  'String',\n",
       "  'Double',\n",
       "  'Long',\n",
       "  'String'],\n",
       " ':`department_management.department`': [{'Name': ['Labor',\n",
       "    'State',\n",
       "    'Agriculture',\n",
       "    'Education',\n",
       "    'Defense',\n",
       "    'Interior',\n",
       "    'Commerce',\n",
       "    'Transportation',\n",
       "    'Energy',\n",
       "    'Treasury',\n",
       "    'Justice',\n",
       "    'Homeland Security',\n",
       "    'Health and Human Services',\n",
       "    'Housing and Urban Development',\n",
       "    'Veterans Affairs']},\n",
       "  {'Creation': ['1977',\n",
       "    '1979',\n",
       "    '2002',\n",
       "    '1913',\n",
       "    '1849',\n",
       "    '1870',\n",
       "    '1789',\n",
       "    '1903',\n",
       "    '1966',\n",
       "    '1889',\n",
       "    '1947',\n",
       "    '1953',\n",
       "    '1989',\n",
       "    '1965']},\n",
       "  {'Department_ID': [1, 2, 3, 4, 5, 6, 7, 8, 9, 10, 11, 12, 13, 14, 15]},\n",
       "  {'Ranking': [1, 2, 3, 4, 5, 6, 7, 8, 9, 10, 11, 12, 13, 14, 15]},\n",
       "  {'Budget_in_Billions': [439.3,\n",
       "    6.2,\n",
       "    9.96,\n",
       "    10.7,\n",
       "    11.1,\n",
       "    73.2,\n",
       "    77.6,\n",
       "    46.2,\n",
       "    44.6,\n",
       "    21.5,\n",
       "    23.4,\n",
       "    58.0,\n",
       "    59.7,\n",
       "    62.8,\n",
       "    543.2]},\n",
       "  {'Num_Employees': [3000000.0,\n",
       "    36000.0,\n",
       "    208000.0,\n",
       "    17347.0,\n",
       "    116100.0,\n",
       "    4487.0,\n",
       "    109832.0,\n",
       "    10600.0,\n",
       "    235000.0,\n",
       "    71436.0,\n",
       "    112557.0,\n",
       "    67000.0,\n",
       "    115897.0,\n",
       "    30266.0,\n",
       "    58622.0]}],\n",
       " ':`department_management.head`': [{'name': ['K. J. Choi',\n",
       "    'Sergio García',\n",
       "    'Franklin Langham',\n",
       "    'Stewart Cink',\n",
       "    'Nick Faldo',\n",
       "    'Dudley Hart',\n",
       "    'Billy Mayfair',\n",
       "    'Tiger Woods',\n",
       "    'Jeff Maggert',\n",
       "    'Pádraig Harrington']},\n",
       "  {'born_state': ['Delaware',\n",
       "    'Alabama',\n",
       "    'California',\n",
       "    'Connecticut',\n",
       "    'Florida']},\n",
       "  {'age': [67.0, 68.0, 69.0, 43.0, 50.0, 52.0, 53.0, 56.0]},\n",
       "  {'head_ID': [1, 2, 3, 4, 5, 6, 7, 8, 9, 10]}],\n",
       " ':`department_management.management`': [{'temporary_acting': ['Yes', 'No']}]}"
      ]
     },
     "execution_count": 7,
     "metadata": {},
     "output_type": "execute_result"
    }
   ],
   "source": [
    "sorted_schema['department_management']\n"
   ]
  },
  {
   "cell_type": "code",
   "execution_count": 5,
   "metadata": {},
   "outputs": [],
   "source": [
    "import os\n",
    "outfpath= os.getcwd() +  '/schema.json'\n",
    "with open(outfpath, 'w') as out:\n",
    "    json.dump(sorted_schema, out, indent=4)"
   ]
  },
  {
   "cell_type": "code",
   "execution_count": 6,
   "metadata": {},
   "outputs": [
    {
     "name": "stdout",
     "output_type": "stream",
     "text": [
      "/home/22842219/Desktop/phd/SemanticParser4Graph/sp_data_folder/train.json\n",
      "/home/22842219/Desktop/phd/SemanticParser4Graph/sp_data_folder/dev.json\n"
     ]
    }
   ],
   "source": [
    "sp_data_folder =  '/home/22842219/Desktop/phd/SemanticParser4Graph/sp_data_folder'\n",
    "for split in ['train.json', 'dev.json']:\n",
    "    fpth = os.path.join(sp_data_folder,  split )\n",
    "    print(fpth)\n",
    "    reformated_data = []\n",
    "    with open(fpth, 'r', encoding='utf-8-sig') as f:\n",
    "        data = json.load(f)\n",
    "        for every in data:\n",
    "            if every['answers'] and every['answers']!=[[0]]:\n",
    "                reformated = {}\n",
    "                reformated['question'] = every['question']\n",
    "                reformated['query'] = every['cypher_query']\n",
    "                reformated['db_id'] = every['db_id']\n",
    "                reformated['answers'] = every['answers']\n",
    "                reformated_data.append(reformated)\n",
    "\n",
    "        with open(split, 'w') as out:\n",
    "            json.dump(reformated_data, out, indent=4)\n",
    "\n",
    "                    \n"
   ]
  },
  {
   "cell_type": "code",
   "execution_count": null,
   "metadata": {},
   "outputs": [],
   "source": []
  }
 ],
 "metadata": {
  "kernelspec": {
   "display_name": "Python 3.8.10 64-bit",
   "language": "python",
   "name": "python3"
  },
  "language_info": {
   "codemirror_mode": {
    "name": "ipython",
    "version": 3
   },
   "file_extension": ".py",
   "mimetype": "text/x-python",
   "name": "python",
   "nbconvert_exporter": "python",
   "pygments_lexer": "ipython3",
   "version": "3.8.10"
  },
  "orig_nbformat": 4,
  "vscode": {
   "interpreter": {
    "hash": "916dbcbb3f70747c44a77c7bcd40155683ae19c65e1c03b4aa3499c5328201f1"
   }
  }
 },
 "nbformat": 4,
 "nbformat_minor": 2
}
