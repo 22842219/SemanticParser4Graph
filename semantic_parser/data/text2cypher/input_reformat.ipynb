{
 "cells": [
  {
   "cell_type": "code",
   "execution_count": null,
   "metadata": {},
   "outputs": [],
   "source": [
    "import json, codecs, os\n",
    "import sqlite3"
   ]
  },
  {
   "cell_type": "code",
   "execution_count": null,
   "metadata": {},
   "outputs": [],
   "source": [
    "nodes_fpath = os.getcwd() + '/raw_graph_schema/node_properties.json'\n",
    "rels_fpath = os.getcwd() + '/raw_graph_schema/rel_properties.json'"
   ]
  },
  {
   "cell_type": "code",
   "execution_count": null,
   "metadata": {},
   "outputs": [],
   "source": [
    "from typing import List, Dict, Tuple\n",
    "db_fpath =  '/home/22842219/Desktop/projects_data/spider/database'\n",
    "sorted_schema = {}\n",
    "# {\"department_management\": {'db_id': str, 'tag_names': List(str), 'property_names': [(-1, \"*\"), (tag_idx, column_name0)...]\n",
    "# tag_name:{propery_name: []}}}\n",
    "for fpath in [nodes_fpath, rels_fpath]:\n",
    "    with codecs.open(fpath, 'r', 'utf-8-sig') as f:\n",
    "        data = json.load(f)\n",
    "        for every in data:\n",
    "            if 'nodeType' in every:\n",
    "                tag = every['nodeType'][1:]\n",
    "            elif 'relType' in every:\n",
    "                tag = every['relType'][1:]\n",
    "            tag_seps = tag.strip(\"`\").split('.')\n",
    "            db_id = tag_seps[0]\n",
    "            if db_id not in sorted_schema:\n",
    "                each_ = {'db_id': db_id, 'tag_names_original': [], 'tag_names': [], \\\n",
    "                    'property_names': [(-1, \"*\")], 'property_types': []}\n",
    "            tag_name = tag_seps[1]\n",
    "            if tag_name not in each_:\n",
    "                each_[tag_name]={}  \n",
    "            if tag_name not in each_['tag_names_original']:\n",
    "                each_['tag_names_original'].append(tag_name)\n",
    "                each_['tag_names'].append(tag)\n",
    "\n",
    "            if bool(every['propertyTypes']):\n",
    "                if isinstance(every['propertyTypes'], list):\n",
    "                    each_['property_types'].append('_'.join(every['propertyTypes']))\n",
    "\n",
    "            # use sqlite cursor to get field values. \n",
    "            # we use the concept of picklist to save field values.\n",
    "        # if db_id == 'department_management':\n",
    "            db_path = os.path.join(db_fpath, db_id, '{}.sqlite'.format(db_id))\n",
    "            tag_id = each_['tag_names_original'].index(tag_name)\n",
    "            if bool(every['propertyName']) and every['propertyName'].lower()!='none':\n",
    "                each_['property_names'].append(tuple((tag_id, every['propertyName'])))\n",
    "                fetch_sql = \"SELECT DISTINCT `{}` FROM `{}`\".format(every['propertyName'], tag_name)\n",
    "                print(db_id, tag_name, fetch_sql)\n",
    "                try:\n",
    "                    conn = sqlite3.connect(db_path)\n",
    "                    conn.text_factory = bytes\n",
    "                    c = conn.cursor()\n",
    "                    c.execute(fetch_sql)\n",
    "                    picklist = set()\n",
    "                    # print(c.fetchall())\n",
    "                    for x in c.fetchall():\n",
    "                        if bool(x[0]):\n",
    "                            if isinstance(x[0], str):\n",
    "                                picklist.add(x[0])\n",
    "                            elif isinstance(x[0], bytes):\n",
    "                                try:\n",
    "                                    picklist.add(x[0].decode(\"utf-8\"))\n",
    "                                except UnicodeDecodeError:\n",
    "                                    picklist.add(x[0].decode(\"latin-1\"))\n",
    "                            else:\n",
    "                                picklist.add(x[0])\n",
    "                    picklist = list(picklist)\n",
    "                finally:\n",
    "                    conn.close()\n",
    "                \n",
    "                each_[tag_name][every['propertyName']]=picklist\n",
    "                sorted_schema[db_id]=each_\n",
    "            \n",
    "                \n"
   ]
  },
  {
   "cell_type": "code",
   "execution_count": null,
   "metadata": {},
   "outputs": [],
   "source": [
    "\n",
    "len(sorted_schema)\n"
   ]
  },
  {
   "cell_type": "code",
   "execution_count": null,
   "metadata": {},
   "outputs": [],
   "source": [
    "sorted_schema"
   ]
  },
  {
   "cell_type": "code",
   "execution_count": null,
   "metadata": {},
   "outputs": [],
   "source": [
    "import os\n",
    "outfpath= os.getcwd() +  '/schema.json'\n",
    "with codecs.open(outfpath, 'w', encoding='utf-8') as out:\n",
    "    json.dump(sorted_schema, out, indent=4)"
   ]
  },
  {
   "cell_type": "code",
   "execution_count": null,
   "metadata": {},
   "outputs": [],
   "source": [
    "sp_data_folder =  '/home/22842219/Desktop/phd/SemanticParser4Graph/sp_data_folder'\n",
    "out='/home/22842219/Desktop/phd/SemanticParser4Graph/semantic_parser/data/text2cypher'\n",
    "for split in ['train_correct_.json', 'dev_correct_.json']:\n",
    "    fpth = os.path.join(sp_data_folder,  split )\n",
    "    print(fpth)\n",
    "    data = []\n",
    "    with open(fpth, 'r', encoding='utf-8-sig') as f:\n",
    "        data = json.load(f)\n",
    "        for every in data:\n",
    "            if every['answers'] and every['answers']!=[[0]]:\n",
    "                item = {}\n",
    "                item['db_id'] = every['db_id']\n",
    "                item['question'] = every['question']\n",
    "                item['query'] = every['query']\n",
    "                item['answers'] = every['answers']\n",
    "                item['schema']= sorted_schema[every['db_id']]\n",
    "                data.append(item)\n",
    "\n",
    "\n",
    "        with open(os.path.join(out, split), 'w') as out:\n",
    "            json.dump(data, out, indent=4)\n",
    "\n",
    "                    \n"
   ]
  },
  {
   "cell_type": "code",
   "execution_count": null,
   "metadata": {},
   "outputs": [],
   "source": []
  }
 ],
 "metadata": {
  "kernelspec": {
   "display_name": "Python 3.8.10 64-bit",
   "language": "python",
   "name": "python3"
  },
  "language_info": {
   "codemirror_mode": {
    "name": "ipython",
    "version": 3
   },
   "file_extension": ".py",
   "mimetype": "text/x-python",
   "name": "python",
   "nbconvert_exporter": "python",
   "pygments_lexer": "ipython3",
   "version": "3.8.10"
  },
  "orig_nbformat": 4,
  "vscode": {
   "interpreter": {
    "hash": "916dbcbb3f70747c44a77c7bcd40155683ae19c65e1c03b4aa3499c5328201f1"
   }
  }
 },
 "nbformat": 4,
 "nbformat_minor": 2
}
