{
 "cells": [
  {
   "cell_type": "code",
   "execution_count": 22,
   "metadata": {},
   "outputs": [],
   "source": [
    "import os, sys\n",
    "import json\n",
    "import sqlite3\n",
    "import traceback\n",
    "import argparse\n",
    "from process_cypher import get_cypher\n",
    "\n",
    "\n",
    "class Schema:\n",
    "    \"\"\"\n",
    "    Simple schema which maps node lable/type edge&property to a unique identifier\n",
    "    \"\"\"\n",
    "    def __init__(self, schema):\n",
    "        self._schema = schema\n",
    "        self._idMap = self._map(self._schema)\n",
    "\n",
    "    @property\n",
    "    def schema(self):\n",
    "        return self._schema\n",
    "\n",
    "    @property\n",
    "    def idMap(self):\n",
    "        return self._idMap\n",
    "\n",
    "    def _map(self, schema):\n",
    "        property_names_original = schema['property_names']\n",
    "        tag_names_original = schema['table_names_original']\n",
    "        for i, (tag_id, property) in enumerate(property_names_original):\n",
    "            if tag_id == -1:\n",
    "                idMap = {'*': i}\n",
    "            else:\n",
    "                key = tag_names_original[tag_id].lower()\n",
    "                val = property.lower()\n",
    "                idMap[key + \".\" + val] = i\n",
    "\n",
    "        for i, tab in enumerate(tag_names_original):\n",
    "            key = tab.lower()\n",
    "            idMap[key] = i\n",
    "\n",
    "        return idMap\n",
    "    \n",
    "\n",
    "def get_schemas_from_json(fpath):\n",
    "    with open(fpath) as f:\n",
    "        data = json.load(f)\n",
    "    db_names = list(data.keys())\n",
    "\n",
    "    tags = {}\n",
    "    schemas = {}\n",
    "    for _, db in data.items():\n",
    "        db_id = db['db_id']\n",
    "        schema = {} #{'tag': [property.lower, ..., ]} * -> __all__\n",
    "        property_names = db['property_names']\n",
    "        tag_names = db['tag_names']\n",
    "        tags[db_id] = {'property_names': property_names, 'tag_names': tag_names}\n",
    "        for i, tabn in enumerate(tag_names):\n",
    "            tag = str(tabn.lower())\n",
    "            props = [str(prop.lower()) for td, prop in property_names if td == i]\n",
    "            schema[tag] = props\n",
    "        schemas[db_id] = schema\n",
    "\n",
    "    return schemas, db_names, tags\n",
    "\n"
   ]
  },
  {
   "cell_type": "code",
   "execution_count": null,
   "metadata": {},
   "outputs": [],
   "source": [
    "\n",
    "#TODO: update the following dirs\n",
    "cypher_path =  '/home/22842219/Desktop/phd/SemanticParser4Graph/semantic_parser/data/text2cypher/dev.json' \n",
    "output_file = '/home/22842219/Desktop/phd/SemanticParser4Graph/semantic_parser/data/text2cypher/dev_new.json'\n",
    "raw_schema_file =  '/home/22842219/Desktop/phd/SemanticParser4Graph/semantic_parser/data/text2cypher/schema.json'  \n",
    "\n",
    "schemas, db_names, tags = get_schemas_from_json(raw_schema_file)\n",
    "print(schemas)\n",
    "print(db_names)\n",
    "print(tags)"
   ]
  },
  {
   "cell_type": "code",
   "execution_count": 34,
   "metadata": {},
   "outputs": [],
   "source": [
    "\n",
    "with open(cypher_path) as inf:\n",
    "    cypher_data = json.load(inf)"
   ]
  },
  {
   "cell_type": "code",
   "execution_count": 43,
   "metadata": {},
   "outputs": [
    {
     "ename": "KeyError",
     "evalue": "'property_names'",
     "output_type": "error",
     "traceback": [
      "\u001b[0;31m---------------------------------------------------------------------------\u001b[0m",
      "\u001b[0;31mKeyError\u001b[0m                                  Traceback (most recent call last)",
      "Cell \u001b[0;32mIn[43], line 7\u001b[0m\n\u001b[1;32m      5\u001b[0m schema \u001b[39m=\u001b[39m schemas[db_id]\n\u001b[1;32m      6\u001b[0m table \u001b[39m=\u001b[39m tags[db_id]\n\u001b[0;32m----> 7\u001b[0m schema \u001b[39m=\u001b[39m Schema(schema)\n\u001b[1;32m      8\u001b[0m \u001b[39mprint\u001b[39m(schema)\n\u001b[1;32m      9\u001b[0m \u001b[39mprint\u001b[39m(schema\u001b[39m.\u001b[39m_map())\n",
      "Cell \u001b[0;32mIn[22], line 15\u001b[0m, in \u001b[0;36mSchema.__init__\u001b[0;34m(self, schema)\u001b[0m\n\u001b[1;32m     13\u001b[0m \u001b[39mdef\u001b[39;00m \u001b[39m__init__\u001b[39m(\u001b[39mself\u001b[39m, schema):\n\u001b[1;32m     14\u001b[0m     \u001b[39mself\u001b[39m\u001b[39m.\u001b[39m_schema \u001b[39m=\u001b[39m schema\n\u001b[0;32m---> 15\u001b[0m     \u001b[39mself\u001b[39m\u001b[39m.\u001b[39m_idMap \u001b[39m=\u001b[39m \u001b[39mself\u001b[39;49m\u001b[39m.\u001b[39;49m_map(\u001b[39mself\u001b[39;49m\u001b[39m.\u001b[39;49m_schema)\n",
      "Cell \u001b[0;32mIn[22], line 26\u001b[0m, in \u001b[0;36mSchema._map\u001b[0;34m(self, schema)\u001b[0m\n\u001b[1;32m     25\u001b[0m \u001b[39mdef\u001b[39;00m \u001b[39m_map\u001b[39m(\u001b[39mself\u001b[39m, schema):\n\u001b[0;32m---> 26\u001b[0m     property_names_original \u001b[39m=\u001b[39m schema[\u001b[39m'\u001b[39;49m\u001b[39mproperty_names\u001b[39;49m\u001b[39m'\u001b[39;49m]\n\u001b[1;32m     27\u001b[0m     tag_names_original \u001b[39m=\u001b[39m schema[\u001b[39m'\u001b[39m\u001b[39mtable_names_original\u001b[39m\u001b[39m'\u001b[39m]\n\u001b[1;32m     28\u001b[0m     \u001b[39mfor\u001b[39;00m i, (tag_id, \u001b[39mproperty\u001b[39m) \u001b[39min\u001b[39;00m \u001b[39menumerate\u001b[39m(property_names_original):\n",
      "\u001b[0;31mKeyError\u001b[0m: 'property_names'"
     ]
    }
   ],
   "source": [
    "cypher_data_new = []\n",
    "for data in cypher_data:\n",
    "    # try:\n",
    "    db_id = data[\"db_id\"]\n",
    "    schema = schemas[db_id]\n",
    "    table = tags[db_id]\n",
    "    schema = Schema(schema)\n",
    "    print(schema)\n",
    "    print(schema._map())\n",
    "    #     cypher = data[\"query\"]\n",
    "    #     cypher_label = get_cypher(schema, cypher)\n",
    "    #     data[\"cypher\"] = cypher_label\n",
    "    #     cypher_data_new.append(data)\n",
    "    # except:\n",
    "    #     print(\"db_id: \", db_id)\n",
    "        # print(\"cypher: \", cypher)\n",
    "        "
   ]
  }
 ],
 "metadata": {
  "kernelspec": {
   "display_name": "Python 3.8.10 64-bit",
   "language": "python",
   "name": "python3"
  },
  "language_info": {
   "codemirror_mode": {
    "name": "ipython",
    "version": 3
   },
   "file_extension": ".py",
   "mimetype": "text/x-python",
   "name": "python",
   "nbconvert_exporter": "python",
   "pygments_lexer": "ipython3",
   "version": "3.8.10"
  },
  "orig_nbformat": 4,
  "vscode": {
   "interpreter": {
    "hash": "916dbcbb3f70747c44a77c7bcd40155683ae19c65e1c03b4aa3499c5328201f1"
   }
  }
 },
 "nbformat": 4,
 "nbformat_minor": 2
}
