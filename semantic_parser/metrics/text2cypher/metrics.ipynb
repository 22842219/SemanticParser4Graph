{
 "cells": [
  {
   "cell_type": "code",
   "execution_count": 1,
   "metadata": {},
   "outputs": [],
   "source": [
    "#codet5_preds\n",
    "codet5_prefix_post_all = '/home/22842219/Desktop/phd/SemanticParser4Graph/semantic_parser/output/CodeT5_base_prefix_text2cypher--predicted_post_all/predictions_predict.json'\n",
    "codet5_finetune_post_all = '/home/22842219/Desktop/phd/SemanticParser4Graph/semantic_parser/output/CodeT5_base_finetune_text2cypher-predicted_postprocessing_removing_space-normalization/predictions_predict.json'\n",
    "t5_prefix_post_space_removal = '/home/22842219/Desktop/phd/SemanticParser4Graph/semantic_parser/output/T5_base_prefix_text2cypher_with_cell_value-predicted_postprocessing_removing_space/predictions_predict.json'\n",
    "t5_prefix_post_all = '/home/22842219/Desktop/phd/SemanticParser4Graph/semantic_parser/output/T5_base_prefix_text2cypher_with_cell_value-predicted_postprocessing_removing_space-normalization/predictions_predict.json'\n",
    "t5_finetune_post_all = '/home/22842219/Desktop/phd/SemanticParser4Graph/semantic_parser/output/T5_base_finetune_text2cypher_with_cell_value-predicted_postprocessing_removing_space-normalization/predictions_predict.json'"
   ]
  },
  {
   "cell_type": "code",
   "execution_count": 3,
   "metadata": {},
   "outputs": [
    {
     "name": "stdout",
     "output_type": "stream",
     "text": [
      "Collecting levenshtein\n",
      "  Downloading Levenshtein-0.20.9-cp38-cp38-manylinux_2_17_x86_64.manylinux2014_x86_64.whl (174 kB)\n",
      "\u001b[K     |████████████████████████████████| 174 kB 31.2 MB/s eta 0:00:01\n",
      "\u001b[?25hRequirement already satisfied: rapidfuzz<3.0.0,>=2.3.0 in /usr/local/lib/python3.8/dist-packages (from levenshtein) (2.13.2)\n",
      "Installing collected packages: levenshtein\n",
      "Successfully installed levenshtein-0.20.9\n"
     ]
    }
   ],
   "source": [
    "!pip install levenshtein"
   ]
  },
  {
   "cell_type": "code",
   "execution_count": 3,
   "metadata": {},
   "outputs": [],
   "source": [
    "from Levenshtein import ratio, distance"
   ]
  },
  {
   "cell_type": "code",
   "execution_count": 4,
   "metadata": {},
   "outputs": [
    {
     "name": "stdout",
     "output_type": "stream",
     "text": [
      "491\n",
      "0.7227336582086287\n",
      "0.9144347302483353\n",
      "9438\n",
      "491\n",
      "0.7224142899832182\n",
      "0.914013700753335\n",
      "9187\n",
      "491\n",
      "0.6941612771018931\n",
      "0.8801563139789007\n",
      "12878\n",
      "491\n",
      "0.6957800292378753\n",
      "0.8817389975969898\n",
      "12990\n",
      "491\n",
      "0.7069642833446649\n",
      "0.8955884597514772\n",
      "11327\n"
     ]
    }
   ],
   "source": [
    "import json\n",
    "for f in [codet5_prefix_post_all, codet5_finetune_post_all, t5_prefix_post_all, t5_prefix_post_space_removal, t5_finetune_post_all]:\n",
    "    with open(f, 'r', encoding=\"utf-8\") as f:\n",
    "        data = json.load(f)\n",
    "        print(len(data))\n",
    "        total_ratio_uncased = 0\n",
    "        total_ratio_cased = 0\n",
    "        total_distance=0\n",
    "        for each in data:\n",
    "            # print(each)\n",
    "            pred = each['prediction']\n",
    "            gold = each['query']\n",
    "            # print(pred, gold)\n",
    "            total_ratio_cased+=ratio(pred, gold)\n",
    "            total_ratio_uncased+=ratio(pred.lower(), gold.lower())\n",
    "            total_distance+=distance(pred.lower(), gold.lower())\n",
    "        print(total_ratio_cased/len(data))\n",
    "        print(total_ratio_uncased/len(data))\n",
    "        print(total_distance)\n",
    "\n"
   ]
  },
  {
   "cell_type": "code",
   "execution_count": null,
   "metadata": {},
   "outputs": [],
   "source": [
    "!pip install sacrebleu"
   ]
  },
  {
   "cell_type": "code",
   "execution_count": null,
   "metadata": {},
   "outputs": [],
   "source": [
    "%cd BLEU"
   ]
  },
  {
   "cell_type": "code",
   "execution_count": 6,
   "metadata": {},
   "outputs": [
    {
     "name": "stdout",
     "output_type": "stream",
     "text": [
      "491\n",
      "491\n",
      "491\n",
      "491\n",
      "491\n"
     ]
    }
   ],
   "source": [
    "import json, os\n",
    "\n",
    "for i, f in enumerate([codet5_prefix_post_all, codet5_finetune_post_all, t5_prefix_post_all, t5_prefix_post_space_removal, t5_finetune_post_all]):\n",
    "    with open(f, 'r', encoding=\"utf-8\") as f:\n",
    "        data = json.load(f)\n",
    "        print(len(data))\n",
    "        for each in data:\n",
    "            # print(each)\n",
    "            pred = each['prediction']\n",
    "            gold = each['query']\n",
    "            \n",
    "            # pred = pred.replace(',', ' , ').replace('(', ' ( ').replace(':', ' : ').replace(')', ' ) ').replace('\\n', ' ')\n",
    "            gold = gold.replace('\\n', ' ')\n",
    "            with open('{}.ref.detok.txt'.format(i), 'a') as out:\n",
    "                out.write(gold)\n",
    "                out.write('\\n')\n",
    "            with open('{}.out.detok.txt'.format(i), 'a') as out:\n",
    "                out.write(pred)\n",
    "                out.write('\\n')\n",
    "\n",
    "            with open('{}.uncased.ref.detok.txt'.format(i), 'a') as out:\n",
    "                out.write(gold.lower())\n",
    "                out.write('\\n')\n",
    "            with open('{}.uncased.out.detok.txt'.format(i), 'a') as out:\n",
    "                out.write(pred.lower())\n",
    "                out.write('\\n')    \n",
    "\n"
   ]
  },
  {
   "cell_type": "code",
   "execution_count": 19,
   "metadata": {},
   "outputs": [
    {
     "name": "stdout",
     "output_type": "stream",
     "text": [
      "45.6240\n",
      "\u001b[0m"
     ]
    }
   ],
   "source": [
    "#codet5 prefix\n",
    "!sacrebleu 0.ref.detok.txt -i 0.out.detok.txt -m bleu -b -w 4"
   ]
  },
  {
   "cell_type": "code",
   "execution_count": 20,
   "metadata": {},
   "outputs": [
    {
     "name": "stdout",
     "output_type": "stream",
     "text": [
      "84.3846\n",
      "\u001b[0m"
     ]
    }
   ],
   "source": [
    "#codet5 prefix uncased\n",
    "!sacrebleu 0.uncased.ref.detok.txt -i 0.uncased.out.detok.txt -m bleu -b -w 4"
   ]
  },
  {
   "cell_type": "code",
   "execution_count": 21,
   "metadata": {},
   "outputs": [
    {
     "name": "stdout",
     "output_type": "stream",
     "text": [
      "45.9585\n",
      "\u001b[0m"
     ]
    }
   ],
   "source": [
    "#codet5 \n",
    "!sacrebleu 1.ref.detok.txt -i 1.out.detok.txt -m bleu -b -w 4"
   ]
  },
  {
   "cell_type": "code",
   "execution_count": 22,
   "metadata": {},
   "outputs": [
    {
     "name": "stdout",
     "output_type": "stream",
     "text": [
      "85.0326\n",
      "\u001b[0m"
     ]
    }
   ],
   "source": [
    "#codet5 uncased\n",
    "!sacrebleu 1.uncased.ref.detok.txt -i 1.uncased.out.detok.txt -m bleu -b -w 4"
   ]
  },
  {
   "cell_type": "code",
   "execution_count": 23,
   "metadata": {},
   "outputs": [
    {
     "name": "stdout",
     "output_type": "stream",
     "text": [
      "43.1933\n",
      "\u001b[0m"
     ]
    }
   ],
   "source": [
    "#t5_prefix_post_all\n",
    "!sacrebleu 2.ref.detok.txt -i 2.out.detok.txt -m bleu -b -w 4"
   ]
  },
  {
   "cell_type": "code",
   "execution_count": 24,
   "metadata": {},
   "outputs": [
    {
     "name": "stdout",
     "output_type": "stream",
     "text": [
      "80.3131\n",
      "\u001b[0m"
     ]
    }
   ],
   "source": [
    "#t5_prefix_post_all uncased\n",
    "!sacrebleu 2.uncased.ref.detok.txt -i 2.uncased.out.detok.txt -m bleu -b -w 4"
   ]
  },
  {
   "cell_type": "code",
   "execution_count": 25,
   "metadata": {},
   "outputs": [
    {
     "name": "stdout",
     "output_type": "stream",
     "text": [
      "43.2077\n",
      "\u001b[0m"
     ]
    }
   ],
   "source": [
    "#t5_prefix_post_space_removal\n",
    "!sacrebleu 3.ref.detok.txt -i 3.out.detok.txt -m bleu -b -w 4"
   ]
  },
  {
   "cell_type": "code",
   "execution_count": 26,
   "metadata": {},
   "outputs": [
    {
     "name": "stdout",
     "output_type": "stream",
     "text": [
      "79.5580\n",
      "\u001b[0m"
     ]
    }
   ],
   "source": [
    "#t5_prefix_post_space_removal uncased\n",
    "!sacrebleu 3.uncased.ref.detok.txt -i 3.uncased.out.detok.txt -m bleu -b -w 4"
   ]
  },
  {
   "cell_type": "code",
   "execution_count": 27,
   "metadata": {},
   "outputs": [
    {
     "name": "stdout",
     "output_type": "stream",
     "text": [
      "44.9125\n",
      "\u001b[0m"
     ]
    }
   ],
   "source": [
    "#t5_finetune_post_all\n",
    "!sacrebleu 4.ref.detok.txt -i 4.out.detok.txt -m bleu -b -w 4"
   ]
  },
  {
   "cell_type": "code",
   "execution_count": 28,
   "metadata": {},
   "outputs": [
    {
     "name": "stdout",
     "output_type": "stream",
     "text": [
      "83.7329\n",
      "\u001b[0m"
     ]
    }
   ],
   "source": [
    "#t5_finetune_post_all uncased\n",
    "!sacrebleu 4.uncased.ref.detok.txt -i 4.uncased.out.detok.txt -m bleu -b -w 4"
   ]
  }
 ],
 "metadata": {
  "kernelspec": {
   "display_name": "Python 3.8.10 64-bit",
   "language": "python",
   "name": "python3"
  },
  "language_info": {
   "codemirror_mode": {
    "name": "ipython",
    "version": 3
   },
   "file_extension": ".py",
   "mimetype": "text/x-python",
   "name": "python",
   "nbconvert_exporter": "python",
   "pygments_lexer": "ipython3",
   "version": "3.8.10"
  },
  "orig_nbformat": 4,
  "vscode": {
   "interpreter": {
    "hash": "916dbcbb3f70747c44a77c7bcd40155683ae19c65e1c03b4aa3499c5328201f1"
   }
  }
 },
 "nbformat": 4,
 "nbformat_minor": 2
}
