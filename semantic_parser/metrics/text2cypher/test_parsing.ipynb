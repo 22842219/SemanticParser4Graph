{
 "cells": [
  {
   "cell_type": "markdown",
   "metadata": {},
   "source": [
    "#### [Cypher](https://neo4j.com/product/cypher-graph-query-language/)\n",
    "\n",
    "Cypher is a graph-optimized query language that understands, and takes advantage of, data connections. It follows connections – in any direction – to reveal previously unknown relationships and clusters. Cypher queries are much easier to write than massive SQL joins. Compare this Cypher query to its equivalent in SQL.\n",
    "\n",
    "Neo4j and Cypher Under the Hood\n",
    "\n",
    "Cypher is an expressive language with advanced graph patterns and collection support. Under the hood, the cypher processing pipeline first parses the query if not in cache, then goes through semantic verification and rewriting of the AST, followed by finding the cheapest execution plan (logical and physical) for all the operations using available planners, all the way to query execution.\n"
   ]
  },
  {
   "cell_type": "code",
   "execution_count": 1,
   "metadata": {},
   "outputs": [],
   "source": [
    "import json, re\n",
    "from nltk import word_tokenize\n",
    "\n",
    "from pygments.lexers import get_lexer_by_name\n",
    "from cypher_parser import CyqueryStatmentParser\n",
    "lexer = get_lexer_by_name(\"py2neo.cypher\")\n",
    "\n",
    "alias_pattern = re.compile(r'(t[1-9]|[a-z])')\t\n",
    "labels_pattern = re.compile(r':`[a-z|A-Z].*`')\n",
    "\n",
    "from process_cypher import CLAUSE_KEYWORDS, CYPHER_OPERATORS, WHERE_OPS, UNIT_OPS, AGG_OPS, ORDER_OPS, TABLE_TYPE, DerivedFieldAliasError, DerivedTableAliasError, ParenthesesInConditionError, ValueListError\n"
   ]
  },
  {
   "cell_type": "code",
   "execution_count": 2,
   "metadata": {},
   "outputs": [],
   "source": [
    "#schema file path\n",
    "# fpath = '/home/22842219/Desktop/openSource/UnifiedSKGG-Cypher/data/text2cypher/schema.json'\n",
    "fpath ='/home/22842219/Desktop/phd/SemanticParser4Graph/semantic_parser/data/text2cypher/schema.json'\n",
    "db_id = 'concert_singer'\n"
   ]
  },
  {
   "cell_type": "code",
   "execution_count": 3,
   "metadata": {},
   "outputs": [
    {
     "data": {
      "text/plain": [
       "{'*': 0,\n",
       " '`concert_singer.stadium`.Name': 1,\n",
       " '`concert_singer.stadium`.Lowest': 2,\n",
       " '`concert_singer.stadium`.Stadium_ID': 3,\n",
       " '`concert_singer.stadium`.Capacity': 4,\n",
       " '`concert_singer.stadium`.Highest': 5,\n",
       " '`concert_singer.stadium`.Location': 6,\n",
       " '`concert_singer.stadium`.Average': 7,\n",
       " '`concert_singer.singer`.Country': 8,\n",
       " '`concert_singer.singer`.Age': 9,\n",
       " '`concert_singer.singer`.Name': 10,\n",
       " '`concert_singer.singer`.Song_Name': 11,\n",
       " '`concert_singer.singer`.Is_male': 12,\n",
       " '`concert_singer.singer`.Singer_ID': 13,\n",
       " '`concert_singer.singer`.Song_release_year': 14,\n",
       " '`concert_singer.concert`.Theme': 15,\n",
       " '`concert_singer.concert`.Stadium_ID': 16,\n",
       " '`concert_singer.concert`.concert_Name': 17,\n",
       " '`concert_singer.concert`.concert_ID': 18,\n",
       " '`concert_singer.concert`.Year': 19,\n",
       " '`concert_singer.stadium`': 0,\n",
       " '`concert_singer.singer`': 1,\n",
       " '`concert_singer.concert`': 2}"
      ]
     },
     "execution_count": 3,
     "metadata": {},
     "output_type": "execute_result"
    }
   ],
   "source": [
    "from process_cypher import Schema, get_schema_from_json\n",
    "schema = Schema(get_schema_from_json(fpath, db_id))\n",
    "schema.idMap"
   ]
  },
  {
   "cell_type": "markdown",
   "metadata": {},
   "source": [
    "## debugging Cypher parser"
   ]
  },
  {
   "cell_type": "code",
   "execution_count": 4,
   "metadata": {},
   "outputs": [],
   "source": [
    "from process_cypher import tokenize, scan_labels_with_alias"
   ]
  },
  {
   "cell_type": "markdown",
   "metadata": {},
   "source": []
  },
  {
   "cell_type": "code",
   "execution_count": 5,
   "metadata": {},
   "outputs": [
    {
     "name": "stdout",
     "output_type": "stream",
     "text": [
      "+++++++++++++++++++++++++++++++++tokenize++++++++++++++++++++++++++++++\n",
      "raw queries: ['MATCH (concert:`concert_singer.concert`)-[]-(T2:`concert_singer.stadium`)\\nWITH T2.Name AS Name, count(*) AS count, max(T2.Name) as maxi \\nRETURN Name,count, maxi ORDER BY count '] <class 'list'>\n",
      "toks: [('Token.Keyword', 'MATCH'), ('Token.Text.Whitespace', ' '), ('Token.Punctuation', '('), ('Token.Name.Variable', 'concert'), ('Token.Punctuation', ':'), ('Token.Name.Label', '`concert_singer.concert`'), ('Token.Punctuation', ')-['), ('Token.Punctuation', ']-('), ('Token.Name.Variable', 'T2'), ('Token.Punctuation', ':'), ('Token.Name.Label', '`concert_singer.stadium`'), ('Token.Punctuation', ')'), ('Token.Keyword', 'WITH'), ('Token.Text.Whitespace', ' '), ('Token.Name.Variable', 'T2'), ('Token.Operator', '.'), ('Token.Keyword', 'Name'), ('Token.Text.Whitespace', ' '), ('Token.Keyword', 'AS'), ('Token.Text.Whitespace', ' '), ('Token.Keyword', 'Name'), ('Token.Punctuation', ','), ('Token.Text.Whitespace', ' '), ('Token.Name.Function', 'count'), ('Token.Punctuation', '('), ('Token.Operator', '*'), ('Token.Punctuation', ')'), ('Token.Text.Whitespace', ' '), ('Token.Keyword', 'AS'), ('Token.Text.Whitespace', ' '), ('Token.Name.Variable', 'count'), ('Token.Punctuation', ','), ('Token.Text.Whitespace', ' '), ('Token.Name.Function', 'max'), ('Token.Punctuation', '('), ('Token.Name.Variable', 'T2'), ('Token.Operator', '.'), ('Token.Keyword', 'Name'), ('Token.Punctuation', ')'), ('Token.Text.Whitespace', ' '), ('Token.Keyword', 'as'), ('Token.Text.Whitespace', ' '), ('Token.Name.Variable', 'maxi'), ('Token.Text.Whitespace', ' \\n'), ('Token.Keyword', 'RETURN'), ('Token.Text.Whitespace', ' '), ('Token.Keyword', 'Name'), ('Token.Punctuation', ','), ('Token.Name.Variable', 'count'), ('Token.Punctuation', ','), ('Token.Text.Whitespace', ' '), ('Token.Name.Variable', 'maxi'), ('Token.Text.Whitespace', ' '), ('Token.Keyword', 'ORDER BY'), ('Token.Text.Whitespace', ' '), ('Token.Name.Variable', 'count'), ('Token.Text.Whitespace', ' \\n')]\n"
     ]
    }
   ],
   "source": [
    "test_cypher = \"MATCH (concert:`concert_singer.concert`)-[]-(T2:`concert_singer.stadium`)\\nWITH T2.Name AS Name, count(*) AS count, max(T2.Name) as maxi \\nRETURN Name,count, maxi ORDER BY count \"\n",
    "                   #\"match (n:`concert_singer.singer`) return count(*)\"\n",
    "toks = tokenize(test_cypher)\n",
    "print(f'toks: {toks}')"
   ]
  },
  {
   "cell_type": "code",
   "execution_count": 6,
   "metadata": {},
   "outputs": [
    {
     "name": "stdout",
     "output_type": "stream",
     "text": [
      "{'concert': '`concert_singer.concert`', 'T2': '`concert_singer.stadium`', 'Name': '`concert_singer.stadium`.Name', 'count': '*', 'maxi': '`concert_singer.stadium`.Name'}\n"
     ]
    }
   ],
   "source": [
    "# test labels with alias\n",
    "labels_with_alias = scan_labels_with_alias(toks)\n",
    "print(labels_with_alias)"
   ]
  },
  {
   "cell_type": "markdown",
   "metadata": {},
   "source": []
  },
  {
   "cell_type": "code",
   "execution_count": 7,
   "metadata": {},
   "outputs": [],
   "source": [
    "start_idx = 0\n",
    "# test parse_cypher\n",
    "isBlock = False  #indicate if this is a block of cypher/subcypher\n",
    "len_ = len(toks)\n",
    "idx = start_idx\n",
    "toks_ = [tok[1].lower() for tok in toks]\n",
    "\n",
    "cypher = {}\n"
   ]
  },
  {
   "cell_type": "code",
   "execution_count": 8,
   "metadata": {},
   "outputs": [],
   "source": [
    "\n",
    "from process_cypher import parse_cypher, parse_match, parse_with"
   ]
  },
  {
   "cell_type": "code",
   "execution_count": 9,
   "metadata": {},
   "outputs": [],
   "source": [
    "\n",
    "# parse from clause in order to get default tables\n",
    "match_end_idx, table_units, default_tables = parse_match(\n",
    "    toks, start_idx, labels_with_alias, schema\n",
    ")\n",
    "cypher['match']={'table_units': table_units}\n",
    "\n",
    "# parse 'with' clause\n",
    "idx = match_end_idx\n",
    "idx, with_units = parse_with(toks, idx, labels_with_alias, schema)\n",
    "cypher['with'] = with_units\n"
   ]
  },
  {
   "cell_type": "code",
   "execution_count": 10,
   "metadata": {},
   "outputs": [
    {
     "name": "stdout",
     "output_type": "stream",
     "text": [
      "labels_with_alias: {'concert': '`concert_singer.concert`', 'T2': '`concert_singer.stadium`', 'Name': '`concert_singer.stadium`.Name', 'count': '*', 'maxi': '`concert_singer.stadium`.Name'}\n",
      "cypher: {'match': {'table_units': [('table_unit', 2), ('table_unit', 0)]}, 'with': [(0, 'Name', 1, False), (3, 'count', 0, False), (1, 'maxi', 1, False)]}\n"
     ]
    }
   ],
   "source": [
    "print(f'labels_with_alias: {labels_with_alias}')\n",
    "print(f'cypher: {cypher}')"
   ]
  },
  {
   "cell_type": "code",
   "execution_count": 11,
   "metadata": {},
   "outputs": [
    {
     "data": {
      "text/plain": [
       "['concert', 'T2']"
      ]
     },
     "execution_count": 11,
     "metadata": {},
     "output_type": "execute_result"
    }
   ],
   "source": [
    "default_tables"
   ]
  },
  {
   "cell_type": "code",
   "execution_count": 12,
   "metadata": {},
   "outputs": [
    {
     "name": "stdout",
     "output_type": "stream",
     "text": [
      "val_unit: (0, (0, 0, False), None)\n"
     ]
    }
   ],
   "source": [
    "from process_cypher import parse_return, parse_order_by\n",
    "# return clause\n",
    "idx, return_col_units = parse_return(toks, idx, labels_with_alias, schema, default_tables)\n",
    "cypher['return']=return_col_units\n",
    "# order by clause\n",
    "idx, order_col_units = parse_order_by(toks, idx, labels_with_alias, schema, default_tables)\n",
    "cypher['orderBy'] = order_col_units"
   ]
  },
  {
   "cell_type": "code",
   "execution_count": 13,
   "metadata": {},
   "outputs": [
    {
     "data": {
      "text/plain": [
       "{'match': {'table_units': [('table_unit', 2), ('table_unit', 0)]},\n",
       " 'with': [(0, 'Name', 1, False),\n",
       "  (3, 'count', 0, False),\n",
       "  (1, 'maxi', 1, False)],\n",
       " 'return': (False,\n",
       "  [(0, (0, (0, 1, False), None)),\n",
       "   (0, (0, (0, 0, False), None)),\n",
       "   (0, (0, (0, 1, False), None))]),\n",
       " 'orderBy': ('asc', [(0, (0, 0, False), None)])}"
      ]
     },
     "execution_count": 13,
     "metadata": {},
     "output_type": "execute_result"
    }
   ],
   "source": [
    "cypher"
   ]
  },
  {
   "cell_type": "code",
   "execution_count": 15,
   "metadata": {},
   "outputs": [],
   "source": [
    "def parse_col(toks, start_idx, labels_with_alias, schema, default_tables=None):\n",
    "    \"\"\"\n",
    "        :returns next idx, column id\n",
    "    \"\"\"\n",
    "    toks_ = [tok[1].lower() for tok in toks]\n",
    "    idx = start_idx\n",
    "    tok = toks_[idx]\n",
    "    if tok == \"*\":\n",
    "        return idx + 1, schema.idMap[tok]\n",
    "    print(f'debugging parse_col: idx: {idx}')\n",
    "    print('step 2: ', toks_[idx:])\n",
    "    if toks[idx][0] in ['Token.Punctuation', 'Token.Text.Whitespace' ]:\n",
    "        idx+=1\n",
    "    print('idx:', idx)\n",
    "    print(tok, labels_with_alias)\n",
    "    print(toks[idx])\n",
    "\n",
    "    if toks[idx][0]=='Token.Name.Variable' or toks[idx][1] in labels_with_alias: # if token is a composite\n",
    "        key = labels_with_alias[toks[idx][1]]\n",
    "        if '.' in toks_[idx:]:\n",
    "            schema_key = '{}.{}'.format(key, toks[idx+2][1])\n",
    "            idx+=2\n",
    "        else:\n",
    "            schema_key = key\n",
    "            idx+=1\n",
    "        return idx, schema.idMap[schema_key]\n",
    "\n",
    "    assert default_tables is not None and len(default_tables) > 0, \"Default tables should not be None or empty\"\n",
    "\n",
    "    print('heyyy: tok:', tok)\n",
    "    print(toks[idx])\n",
    "    print(default_tables)\n",
    "    for alias in default_tables:\n",
    "        table = labels_with_alias[alias]\n",
    "        table_original = table.strip('`').split('.')[-1]\n",
    "        if tok in schema.schema[table_original]:\n",
    "            key = table + \".\" + tok\n",
    "            return idx+1, schema.idMap[key]\n",
    "\n",
    "    assert False, \"Error col: {}\".format(tok)\n",
    "\n",
    "def parse_col_unit(toks, start_idx, labels_with_alias, schema, default_tables=None):\n",
    "    \"\"\"\n",
    "        :returns next idx, (agg_op id, col_id)\n",
    "    \"\"\"\n",
    "    toks_ = [tok[1].lower() for tok in toks]\n",
    "    idx = start_idx\n",
    "    len_ = len(toks)\n",
    "    # isBlock = False\n",
    "    isDistinct = False\n",
    "\n",
    "    # if toks_[idx] == '(':\n",
    "    #     isBlock = True\n",
    "    #     idx += 1\n",
    "    print(f'debugging parse_col_unit:  idx: {idx}')\n",
    "    print(\"step 0:\", toks_[idx:])\n",
    "    print(toks[idx:])\n",
    "    \n",
    "    if toks[idx][0] in ['Token.Punctuation', 'Token.Text.Whitespace']:\n",
    "        idx += 1\n",
    "\n",
    "\n",
    "       \n",
    "    if toks_[idx] in AGG_OPS and toks[idx][0]=='Token.Name.Function':\n",
    "        agg_id = AGG_OPS.index(toks_[idx])\n",
    "        idx += 1\n",
    "        assert idx < len_ and toks_[idx] == '('\n",
    "        idx += 1\n",
    "        if toks_[idx] == \"distinct\":\n",
    "            idx += 1\n",
    "            isDistinct = True\n",
    "        \n",
    "        idx, col_id = parse_col(toks, idx, labels_with_alias, schema, default_tables)\n",
    "        assert idx < len_ and toks_[idx] == ')'\n",
    "        idx += 1\n",
    "        return idx, (agg_id, col_id, isDistinct)\n",
    "\n",
    "    if toks_[idx] == \"distinct\":\n",
    "        idx += 1\n",
    "        isDistinct = True\n",
    "    agg_id = AGG_OPS.index(\"none\")\n",
    "    idx, col_id = parse_col(toks, idx, labels_with_alias, schema, default_tables)\n",
    "\n",
    "    # if isBlock:\n",
    "    #     assert toks_[idx] == ')'\n",
    "    #     idx += 1  # skip ')'\n",
    "        \n",
    "    return idx, (agg_id, col_id, isDistinct)\n",
    "\n",
    "def parse_val_unit(toks, start_idx, labels_with_alias, schema, default_tables=None):\n",
    "    idx = start_idx\n",
    "    len_ = len(toks)\n",
    "    # isBlock = False\n",
    "    # if toks[idx] == '(':\n",
    "    #     isBlock = True\n",
    "    #     idx += 1\n",
    "\n",
    "    col_unit1 = None\n",
    "    col_unit2 = None\n",
    "    unit_op = UNIT_OPS.index('none')\n",
    "    print(f'debugging parse_val_unit idx: {idx}, {toks_[idx:]}')\n",
    "    idx, col_unit1 = parse_col_unit(toks, idx, labels_with_alias, schema, default_tables)\n",
    "    if idx < len_ and toks[idx] in UNIT_OPS:\n",
    "        unit_op = UNIT_OPS.index(toks[idx])\n",
    "        idx += 1\n",
    "        idx, col_unit2 = parse_col_unit(toks, idx, labels_with_alias, schema, default_tables)\n",
    "\n",
    "    # if isBlock:\n",
    "    #     assert toks[idx] == ')'\n",
    "    #     idx += 1  # skip ')'\n",
    "\n",
    "    return idx, (unit_op, col_unit1, col_unit2)\n"
   ]
  },
  {
   "cell_type": "code",
   "execution_count": 16,
   "metadata": {},
   "outputs": [],
   "source": [
    "pred0 = \"MATCH (t1:`concert_singer.singer`) \\\n",
    "    WHERE t1.Song_Name =~'.*[Hey]?.*' RETURN t1.Name,t1.Nation\""
   ]
  },
  {
   "cell_type": "code",
   "execution_count": 17,
   "metadata": {},
   "outputs": [],
   "source": [
    "pred1 = ' | concert_singer.singer| :`concert_singer.singer.stadium.singer.stadium.singer.stadium.singer.stadium.singer.singer.stadium.singer.singer.stadium.singer.singer.singer.stadium.singer.stadium.singer.singer.stadium.sing'"
   ]
  },
  {
   "cell_type": "code",
   "execution_count": 18,
   "metadata": {},
   "outputs": [],
   "source": [
    "pred2 = 'SELECT * FROMTV_Series_Has_TVshow.TV_Series,,,,,,,: `tvshow.TV_Series_Has_TVshow.TV_Series_Has_TVshow.TV_Series_Has_TVshow.TV_Series_Has_TVshow.TV_Series_Has_TVshow.TV_Series_Has_TVshow.TV_Series_Has_TV'\n"
   ]
  },
  {
   "cell_type": "markdown",
   "metadata": {},
   "source": []
  }
 ],
 "metadata": {
  "kernelspec": {
   "display_name": "Python 3.8.10 64-bit",
   "language": "python",
   "name": "python3"
  },
  "language_info": {
   "codemirror_mode": {
    "name": "ipython",
    "version": 3
   },
   "file_extension": ".py",
   "mimetype": "text/x-python",
   "name": "python",
   "nbconvert_exporter": "python",
   "pygments_lexer": "ipython3",
   "version": "3.8.10"
  },
  "orig_nbformat": 4,
  "vscode": {
   "interpreter": {
    "hash": "916dbcbb3f70747c44a77c7bcd40155683ae19c65e1c03b4aa3499c5328201f1"
   }
  }
 },
 "nbformat": 4,
 "nbformat_minor": 2
}
