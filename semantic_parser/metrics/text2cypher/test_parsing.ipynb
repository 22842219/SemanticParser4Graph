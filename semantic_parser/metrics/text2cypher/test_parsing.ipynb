{
 "cells": [
  {
   "cell_type": "markdown",
   "metadata": {},
   "source": [
    "#### [Cypher](https://neo4j.com/product/cypher-graph-query-language/)\n",
    "\n",
    "Cypher is a graph-optimized query language that understands, and takes advantage of, data connections. It follows connections – in any direction – to reveal previously unknown relationships and clusters. Cypher queries are much easier to write than massive SQL joins. Compare this Cypher query to its equivalent in SQL.\n",
    "\n",
    "Neo4j and Cypher Under the Hood\n",
    "\n",
    "Cypher is an expressive language with advanced graph patterns and collection support. Under the hood, the cypher processing pipeline first parses the query if not in cache, then goes through semantic verification and rewriting of the AST, followed by finding the cheapest execution plan (logical and physical) for all the operations using available planners, all the way to query execution.\n"
   ]
  },
  {
   "cell_type": "code",
   "execution_count": 1,
   "metadata": {},
   "outputs": [],
   "source": [
    "import json, re\n",
    "from nltk import word_tokenize\n",
    "\n",
    "from pygments.lexers import get_lexer_by_name\n",
    "from cypher_parser import CyqueryStatmentParser\n",
    "lexer = get_lexer_by_name(\"py2neo.cypher\")\n",
    "\n",
    "alias_pattern = re.compile(r'(t[1-9]|[a-z])')\t\n",
    "labels_pattern = re.compile(r':`[a-z|A-Z].*`')\n",
    "\n",
    "from process_cypher import CLAUSE_KEYWORDS, CYPHER_OPERATORS, WHERE_OPS, UNIT_OPS, AGG_OPS, ORDER_OPS, TABLE_TYPE, DerivedFieldAliasError, DerivedTableAliasError, ParenthesesInConditionError, ValueListError\n"
   ]
  },
  {
   "cell_type": "code",
   "execution_count": 2,
   "metadata": {},
   "outputs": [],
   "source": [
    "#schema file path\n",
    "# fpath = '/home/22842219/Desktop/openSource/UnifiedSKGG-Cypher/data/text2cypher/schema.json'\n",
    "fpath ='/home/22842219/Desktop/phd/SemanticParser4Graph/semantic_parser/data/text2cypher/schema.json'\n",
    "db_id = 'concert_singer'\n"
   ]
  },
  {
   "cell_type": "code",
   "execution_count": 3,
   "metadata": {},
   "outputs": [
    {
     "data": {
      "text/plain": [
       "{'*': 0,\n",
       " '`concert_singer.stadium`.Name': 1,\n",
       " '`concert_singer.stadium`.Lowest': 2,\n",
       " '`concert_singer.stadium`.Stadium_ID': 3,\n",
       " '`concert_singer.stadium`.Capacity': 4,\n",
       " '`concert_singer.stadium`.Highest': 5,\n",
       " '`concert_singer.stadium`.Location': 6,\n",
       " '`concert_singer.stadium`.Average': 7,\n",
       " '`concert_singer.singer`.Country': 8,\n",
       " '`concert_singer.singer`.Age': 9,\n",
       " '`concert_singer.singer`.Name': 10,\n",
       " '`concert_singer.singer`.Song_Name': 11,\n",
       " '`concert_singer.singer`.Is_male': 12,\n",
       " '`concert_singer.singer`.Singer_ID': 13,\n",
       " '`concert_singer.singer`.Song_release_year': 14,\n",
       " '`concert_singer.concert`.Theme': 15,\n",
       " '`concert_singer.concert`.Stadium_ID': 16,\n",
       " '`concert_singer.concert`.concert_Name': 17,\n",
       " '`concert_singer.concert`.concert_ID': 18,\n",
       " '`concert_singer.concert`.Year': 19,\n",
       " '`concert_singer.stadium`': 0,\n",
       " '`concert_singer.singer`': 1,\n",
       " '`concert_singer.concert`': 2}"
      ]
     },
     "execution_count": 3,
     "metadata": {},
     "output_type": "execute_result"
    }
   ],
   "source": [
    "from process_cypher import Schema, get_schema_from_json\n",
    "schema = Schema(get_schema_from_json(fpath, db_id))\n",
    "schema.idMap"
   ]
  },
  {
   "cell_type": "markdown",
   "metadata": {},
   "source": [
    "## debugging Cypher parser"
   ]
  },
  {
   "cell_type": "code",
   "execution_count": 4,
   "metadata": {},
   "outputs": [],
   "source": [
    "from process_cypher import tokenize, scan_labels_with_alias"
   ]
  },
  {
   "cell_type": "markdown",
   "metadata": {},
   "source": []
  },
  {
   "cell_type": "code",
   "execution_count": 5,
   "metadata": {},
   "outputs": [
    {
     "name": "stdout",
     "output_type": "stream",
     "text": [
      "+++++++++++++++++++++++++++++++++tokenize++++++++++++++++++++++++++++++\n",
      "raw queries: ['MATCH (concert:`concert_singer.concert`)-[]-(T2:`concert_singer.stadium`)\\nWITH T2.Name AS Name, count(*) AS count, max(T2.Name) as maxi \\nRETURN Name,count, maxi ORDER BY count '] <class 'list'>\n",
      "toks: [('Token.Keyword', 'MATCH'), ('Token.Text.Whitespace', ' '), ('Token.Punctuation', '('), ('Token.Name.Variable', 'concert'), ('Token.Punctuation', ':'), ('Token.Name.Label', '`concert_singer.concert`'), ('Token.Punctuation', ')-['), ('Token.Punctuation', ']-('), ('Token.Name.Variable', 'T2'), ('Token.Punctuation', ':'), ('Token.Name.Label', '`concert_singer.stadium`'), ('Token.Punctuation', ')'), ('Token.Keyword', 'WITH'), ('Token.Text.Whitespace', ' '), ('Token.Name.Variable', 'T2'), ('Token.Operator', '.'), ('Token.Keyword', 'Name'), ('Token.Text.Whitespace', ' '), ('Token.Keyword', 'AS'), ('Token.Text.Whitespace', ' '), ('Token.Keyword', 'Name'), ('Token.Punctuation', ','), ('Token.Text.Whitespace', ' '), ('Token.Name.Function', 'count'), ('Token.Punctuation', '('), ('Token.Operator', '*'), ('Token.Punctuation', ')'), ('Token.Text.Whitespace', ' '), ('Token.Keyword', 'AS'), ('Token.Text.Whitespace', ' '), ('Token.Name.Variable', 'count'), ('Token.Punctuation', ','), ('Token.Text.Whitespace', ' '), ('Token.Name.Function', 'max'), ('Token.Punctuation', '('), ('Token.Name.Variable', 'T2'), ('Token.Operator', '.'), ('Token.Keyword', 'Name'), ('Token.Punctuation', ')'), ('Token.Text.Whitespace', ' '), ('Token.Keyword', 'as'), ('Token.Text.Whitespace', ' '), ('Token.Name.Variable', 'maxi'), ('Token.Text.Whitespace', ' \\n'), ('Token.Keyword', 'RETURN'), ('Token.Text.Whitespace', ' '), ('Token.Keyword', 'Name'), ('Token.Punctuation', ','), ('Token.Name.Variable', 'count'), ('Token.Punctuation', ','), ('Token.Text.Whitespace', ' '), ('Token.Name.Variable', 'maxi'), ('Token.Text.Whitespace', ' '), ('Token.Keyword', 'ORDER BY'), ('Token.Text.Whitespace', ' '), ('Token.Name.Variable', 'count'), ('Token.Text.Whitespace', ' \\n')]\n"
     ]
    }
   ],
   "source": [
    "test_cypher = \"MATCH (concert:`concert_singer.concert`)-[]-(T2:`concert_singer.stadium`)\\nWITH T2.Name AS Name, count(*) AS count, max(T2.Name) as maxi \\nRETURN Name,count, maxi ORDER BY count \"\n",
    "                   #\"match (n:`concert_singer.singer`) return count(*)\"\n",
    "toks = tokenize(test_cypher)\n",
    "print(f'toks: {toks}')"
   ]
  },
  {
   "cell_type": "code",
   "execution_count": 6,
   "metadata": {},
   "outputs": [
    {
     "name": "stdout",
     "output_type": "stream",
     "text": [
      "{'concert': '`concert_singer.concert`', 'T2': '`concert_singer.stadium`', 'Name': '`concert_singer.stadium`.Name', 'count': '*', 'maxi': '`concert_singer.stadium`.Name'}\n"
     ]
    }
   ],
   "source": [
    "# test labels with alias\n",
    "labels_with_alias = scan_labels_with_alias(toks)\n",
    "print(labels_with_alias)"
   ]
  },
  {
   "cell_type": "markdown",
   "metadata": {},
   "source": []
  },
  {
   "cell_type": "code",
   "execution_count": 7,
   "metadata": {},
   "outputs": [],
   "source": [
    "start_idx = 0\n",
    "# test parse_cypher\n",
    "isBlock = False  #indicate if this is a block of cypher/subcypher\n",
    "len_ = len(toks)\n",
    "idx = start_idx\n",
    "toks_ = [tok[1].lower() for tok in toks]\n",
    "\n",
    "cypher = {}\n"
   ]
  },
  {
   "cell_type": "code",
   "execution_count": 8,
   "metadata": {},
   "outputs": [],
   "source": [
    "\n",
    "from process_cypher import parse_cypher, parse_match, parse_with"
   ]
  },
  {
   "cell_type": "code",
   "execution_count": 9,
   "metadata": {},
   "outputs": [],
   "source": [
    "\n",
    "# parse from clause in order to get default tables\n",
    "match_end_idx, table_units, default_tables = parse_match(\n",
    "    toks, start_idx, labels_with_alias, schema\n",
    ")\n",
    "cypher['match']={'table_units': table_units}\n",
    "\n",
    "# parse 'with' clause\n",
    "idx = match_end_idx\n",
    "idx, with_units = parse_with(toks, idx, labels_with_alias, schema)\n",
    "cypher['with'] = with_units\n"
   ]
  },
  {
   "cell_type": "code",
   "execution_count": 10,
   "metadata": {},
   "outputs": [
    {
     "name": "stdout",
     "output_type": "stream",
     "text": [
      "labels_with_alias: {'concert': '`concert_singer.concert`', 'T2': '`concert_singer.stadium`', 'Name': '`concert_singer.stadium`.Name', 'count': '*', 'maxi': '`concert_singer.stadium`.Name'}\n",
      "cypher: {'match': {'table_units': [('table_unit', 2), ('table_unit', 0)]}, 'with': [(0, 'Name', 1, False), (3, 'count', 0, False), (1, 'maxi', 1, False)]}\n"
     ]
    }
   ],
   "source": [
    "print(f'labels_with_alias: {labels_with_alias}')\n",
    "print(f'cypher: {cypher}')"
   ]
  },
  {
   "cell_type": "code",
   "execution_count": 11,
   "metadata": {},
   "outputs": [
    {
     "data": {
      "text/plain": [
       "['concert', 'T2']"
      ]
     },
     "execution_count": 11,
     "metadata": {},
     "output_type": "execute_result"
    }
   ],
   "source": [
    "default_tables"
   ]
  },
  {
   "cell_type": "code",
   "execution_count": 12,
   "metadata": {},
   "outputs": [
    {
     "name": "stdout",
     "output_type": "stream",
     "text": [
      "val_unit: (0, (0, 0, False), None)\n"
     ]
    }
   ],
   "source": [
    "from process_cypher import parse_return, parse_order_by\n",
    "# return clause\n",
    "idx, return_col_units = parse_return(toks, idx, labels_with_alias, schema, default_tables)\n",
    "cypher['return']=return_col_units\n",
    "# order by clause\n",
    "idx, order_col_units = parse_order_by(toks, idx, labels_with_alias, schema, default_tables)\n",
    "cypher['orderBy'] = order_col_units"
   ]
  },
  {
   "cell_type": "code",
   "execution_count": 13,
   "metadata": {},
   "outputs": [
    {
     "data": {
      "text/plain": [
       "{'match': {'table_units': [('table_unit', 2), ('table_unit', 0)]},\n",
       " 'with': [(0, 'Name', 1, False),\n",
       "  (3, 'count', 0, False),\n",
       "  (1, 'maxi', 1, False)],\n",
       " 'return': (False,\n",
       "  [(0, (0, (0, 1, False), None)),\n",
       "   (0, (0, (0, 0, False), None)),\n",
       "   (0, (0, (0, 1, False), None))]),\n",
       " 'orderBy': ('asc', [(0, (0, 0, False), None)])}"
      ]
     },
     "execution_count": 13,
     "metadata": {},
     "output_type": "execute_result"
    }
   ],
   "source": [
    "cypher"
   ]
  },
  {
   "cell_type": "markdown",
   "metadata": {},
   "source": [
    "####"
   ]
  },
  {
   "cell_type": "code",
   "execution_count": 14,
   "metadata": {},
   "outputs": [],
   "source": [
    "test1 = \"MATCH (singer:`concert_singer.singer`)\\nWHERE singer.Country <> 'France' OR singer.Country = 'China' \\nRETURN avg(singer.Age),min(singer.Age),max(singer.Age)\""
   ]
  },
  {
   "cell_type": "code",
   "execution_count": 15,
   "metadata": {},
   "outputs": [],
   "source": [
    "test2= \"MATCH (department:`department_management.department`)\\nWHERE department.Ranking>=10 and department.Ranking<=15.0\\nRETURN avg(department.Num_Employees)\\nLIMIT 10\""
   ]
  },
  {
   "cell_type": "code",
   "execution_count": 16,
   "metadata": {},
   "outputs": [
    {
     "data": {
      "text/plain": [
       "{'*': 0,\n",
       " '`department_management.department`.Name': 1,\n",
       " '`department_management.department`.Creation': 2,\n",
       " '`department_management.department`.Department_ID': 3,\n",
       " '`department_management.department`.Ranking': 4,\n",
       " '`department_management.department`.Budget_in_Billions': 5,\n",
       " '`department_management.department`.Num_Employees': 6,\n",
       " '`department_management.head`.name': 7,\n",
       " '`department_management.head`.born_state': 8,\n",
       " '`department_management.head`.age': 9,\n",
       " '`department_management.head`.head_ID': 10,\n",
       " '`department_management.management`.temporary_acting': 11,\n",
       " '`department_management.department`': 0,\n",
       " '`department_management.head`': 1,\n",
       " '`department_management.management`': 2}"
      ]
     },
     "execution_count": 16,
     "metadata": {},
     "output_type": "execute_result"
    }
   ],
   "source": [
    "from process_cypher import Schema, get_schema_from_json\n",
    "schema = Schema(get_schema_from_json(fpath, 'department_management'))\n",
    "schema.idMap"
   ]
  },
  {
   "cell_type": "code",
   "execution_count": 17,
   "metadata": {},
   "outputs": [
    {
     "name": "stdout",
     "output_type": "stream",
     "text": [
      "+++++++++++++++++++++++++++++++++tokenize++++++++++++++++++++++++++++++\n",
      "raw queries: ['MATCH (department:`department_management.department`)\\nWHERE department.Ranking>=10 and department.Ranking<=15.0\\nRETURN avg(department.Num_Employees)\\nLIMIT 10'] <class 'list'>\n",
      "toks: [('Token.Keyword', 'MATCH'), ('Token.Text.Whitespace', ' '), ('Token.Punctuation', '('), ('Token.Name.Variable', 'department'), ('Token.Punctuation', ':'), ('Token.Name.Label', '`department_management.department`'), ('Token.Punctuation', ')'), ('Token.Keyword', 'WHERE'), ('Token.Text.Whitespace', ' '), ('Token.Name.Variable', 'department'), ('Token.Operator', '.'), ('Token.Name.Variable', 'Ranking'), ('Token.Operator', '>='), ('Token.Literal.Number.Integer', '10'), ('Token.Text.Whitespace', ' '), ('Token.Operator', 'and'), ('Token.Text.Whitespace', ' '), ('Token.Name.Variable', 'department'), ('Token.Operator', '.'), ('Token.Name.Variable', 'Ranking'), ('Token.Operator', '<='), ('Token.Literal.Number.Float', '15.0'), ('Token.Keyword', 'RETURN'), ('Token.Text.Whitespace', ' '), ('Token.Name.Function', 'avg'), ('Token.Punctuation', '('), ('Token.Name.Variable', 'department'), ('Token.Operator', '.'), ('Token.Name.Variable', 'Num_Employees'), ('Token.Punctuation', ')'), ('Token.Keyword', 'LIMIT'), ('Token.Text.Whitespace', ' '), ('Token.Literal.Number.Integer', '10')]\n"
     ]
    }
   ],
   "source": [
    "\n",
    "from process_cypher import tokenize, scan_labels_with_alias, parse_cypher\n",
    "\n",
    "toks = tokenize(test2)\n",
    "print(f'toks: {toks}')"
   ]
  },
  {
   "cell_type": "code",
   "execution_count": 18,
   "metadata": {},
   "outputs": [
    {
     "name": "stdout",
     "output_type": "stream",
     "text": [
      "{'department': '`department_management.department`'}\n"
     ]
    }
   ],
   "source": [
    "# test labels with alias\n",
    "labels_with_alias = scan_labels_with_alias(toks)\n",
    "print(labels_with_alias)\n",
    "\n"
   ]
  },
  {
   "cell_type": "code",
   "execution_count": 27,
   "metadata": {},
   "outputs": [
    {
     "ename": "ValueError",
     "evalue": "not enough values to unpack (expected 4, got 3)",
     "output_type": "error",
     "traceback": [
      "\u001b[0;31m---------------------------------------------------------------------------\u001b[0m",
      "\u001b[0;31mValueError\u001b[0m                                Traceback (most recent call last)",
      "Cell \u001b[0;32mIn[27], line 1\u001b[0m\n\u001b[0;32m----> 1\u001b[0m idx, cypher \u001b[39m=\u001b[39m parse_cypher(toks, \u001b[39m0\u001b[39;49m, labels_with_alias, schema)\n",
      "File \u001b[0;32m~/Desktop/phd/SemanticParser4Graph/semantic_parser/metrics/text2cypher/process_cypher.py:531\u001b[0m, in \u001b[0;36mparse_cypher\u001b[0;34m(toks, start_idx, labels_with_alias, schema)\u001b[0m\n\u001b[1;32m    528\u001b[0m cypher \u001b[39m=\u001b[39m {}\n\u001b[1;32m    530\u001b[0m \u001b[39m# parse 'match' clause\u001b[39;00m\n\u001b[0;32m--> 531\u001b[0m match_end_idx, table_units, conds, default_tables \u001b[39m=\u001b[39m parse_match(toks, start_idx, labels_with_alias, schema)\n\u001b[1;32m    532\u001b[0m cypher[\u001b[39m'\u001b[39m\u001b[39mmatch\u001b[39m\u001b[39m'\u001b[39m] \u001b[39m=\u001b[39m {\u001b[39m'\u001b[39m\u001b[39mtable_units\u001b[39m\u001b[39m'\u001b[39m: table_units, \u001b[39m'\u001b[39m\u001b[39mconds\u001b[39m\u001b[39m'\u001b[39m: conds}\n\u001b[1;32m    534\u001b[0m \u001b[39m# parse 'with' clause\u001b[39;00m\n",
      "\u001b[0;31mValueError\u001b[0m: not enough values to unpack (expected 4, got 3)"
     ]
    }
   ],
   "source": [
    "idx, cypher = parse_cypher(toks, 0, labels_with_alias, schema)\n",
    "\n"
   ]
  },
  {
   "cell_type": "code",
   "execution_count": 20,
   "metadata": {},
   "outputs": [
    {
     "name": "stdout",
     "output_type": "stream",
     "text": [
      "labels_with_alias: {'department': '`department_management.department`'}\n",
      "cypher: {'match': {'table_units': [('table_unit', 0)]}, 'with': []}\n"
     ]
    }
   ],
   "source": [
    "\n",
    "from process_cypher import parse_cypher, parse_match, parse_with, parse_where\n",
    "# parse from clause in order to get default tables\n",
    "match_end_idx, table_units, default_tables = parse_match(\n",
    "    toks, start_idx, labels_with_alias, schema\n",
    ")\n",
    "cypher['match']={'table_units': table_units}\n",
    "\n",
    "# parse 'with' clause\n",
    "idx = match_end_idx\n",
    "idx, with_units = parse_with(toks, idx, labels_with_alias, schema)\n",
    "cypher['with'] = with_units\n",
    "\n",
    "print(f'labels_with_alias: {labels_with_alias}')\n",
    "print(f'cypher: {cypher}')"
   ]
  },
  {
   "cell_type": "code",
   "execution_count": 21,
   "metadata": {},
   "outputs": [
    {
     "name": "stdout",
     "output_type": "stream",
     "text": [
      "heyy 12 (0, (0, 4, False), None)\n",
      "[(False, 2, (0, (0, 4, False), None), '10')]\n",
      "heyy 20 (0, (0, 4, False), None)\n",
      "[(False, 2, (0, (0, 4, False), None), '10'), 'and', (False, 3, (0, (0, 4, False), None), '15.0')]\n"
     ]
    },
    {
     "data": {
      "text/plain": [
       "{'match': {'table_units': [('table_unit', 0)]},\n",
       " 'with': [],\n",
       " 'where': [(False, 2, (0, (0, 4, False), None), '10'),\n",
       "  'and',\n",
       "  (False, 3, (0, (0, 4, False), None), '15.0')]}"
      ]
     },
     "execution_count": 21,
     "metadata": {},
     "output_type": "execute_result"
    }
   ],
   "source": [
    "idx, where_conds = parse_where(toks, idx, labels_with_alias, schema, default_tables)\n",
    "cypher['where'] = where_conds\n",
    "cypher"
   ]
  },
  {
   "cell_type": "code",
   "execution_count": 22,
   "metadata": {},
   "outputs": [],
   "source": [
    "from process_cypher import parse_return, parse_order_by, parse_limit\n",
    "# return clause\n",
    "idx, return_col_units = parse_return(toks, idx, labels_with_alias, schema, default_tables)\n",
    "cypher['return']=return_col_units\n",
    "\n"
   ]
  },
  {
   "cell_type": "code",
   "execution_count": 25,
   "metadata": {},
   "outputs": [],
   "source": [
    "# order by clause\n",
    "idx, order_col_units = parse_order_by(toks, idx, labels_with_alias, schema, default_tables)\n",
    "cypher['order by'] = order_col_units\n",
    "\n",
    "# limit clause\n",
    "idx, limit_val = parse_limit(toks, idx)\n",
    "cypher[\"limit\"] = limit_val"
   ]
  },
  {
   "cell_type": "code",
   "execution_count": 24,
   "metadata": {},
   "outputs": [
    {
     "data": {
      "text/plain": [
       "{'match': {'table_units': [('table_unit', 0)]},\n",
       " 'with': [],\n",
       " 'where': [(False, 2, (0, (0, 4, False), None), '10'),\n",
       "  'and',\n",
       "  (False, 3, (0, (0, 4, False), None), '15.0')],\n",
       " 'return': (False, [(5, (0, (0, 6, False), None))]),\n",
       " 'orderBy': [],\n",
       " 'limit': 10}"
      ]
     },
     "execution_count": 24,
     "metadata": {},
     "output_type": "execute_result"
    }
   ],
   "source": [
    "cypher"
   ]
  },
  {
   "cell_type": "markdown",
   "metadata": {},
   "source": []
  }
 ],
 "metadata": {
  "kernelspec": {
   "display_name": "Python 3.8.10 64-bit",
   "language": "python",
   "name": "python3"
  },
  "language_info": {
   "codemirror_mode": {
    "name": "ipython",
    "version": 3
   },
   "file_extension": ".py",
   "mimetype": "text/x-python",
   "name": "python",
   "nbconvert_exporter": "python",
   "pygments_lexer": "ipython3",
   "version": "3.8.10"
  },
  "orig_nbformat": 4,
  "vscode": {
   "interpreter": {
    "hash": "916dbcbb3f70747c44a77c7bcd40155683ae19c65e1c03b4aa3499c5328201f1"
   }
  }
 },
 "nbformat": 4,
 "nbformat_minor": 2
}
