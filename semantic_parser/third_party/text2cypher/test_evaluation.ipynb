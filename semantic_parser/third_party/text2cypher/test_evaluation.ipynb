{
 "cells": [
  {
   "cell_type": "code",
   "execution_count": 1,
   "metadata": {},
   "outputs": [],
   "source": [
    "import os, sys\n",
    "import json\n",
    "import argparse\n",
    "\n",
    "from process_cypher import Schema, get_schema_from_json\n",
    "\n",
    "from py2neo import Graph\n",
    "import configparser\n",
    "config = configparser.ConfigParser()\n",
    "config.read('/home/22842219/Desktop/phd/SemanticParser4Graph/application/config.ini')\n",
    "filenames = config[\"FILENAMES\"]\n",
    "\n",
    "neo4j_uri = filenames['neo4j_uri']\n",
    "neo4j_user = filenames['neo4j_user']\n",
    "neo4j_password = filenames['neo4j_password']\n",
    "graph = Graph(neo4j_uri, auth = (neo4j_user, neo4j_password))\n",
    "\n",
    "\n"
   ]
  },
  {
   "cell_type": "code",
   "execution_count": 2,
   "metadata": {},
   "outputs": [
    {
     "name": "stdout",
     "output_type": "stream",
     "text": [
      "1\n",
      "count                1                    \n",
      "=====================   EXECUTION ACCURACY     =====================\n",
      "execution            1.000                \n"
     ]
    },
    {
     "data": {
      "text/plain": [
       "{'per_item': [{'predicted': 'MATCH (T1:`concert_singer.concert`)-[]-(T2:`concert_singer.stadium`)\\nWITH T2.Name AS Name, count(T1.Stadium_ID) AS count\\nRETURN Name,count',\n",
       "   'gold': 'MATCH (T1:`concert_singer.concert`)-[]-(T2:`concert_singer.stadium`)\\nWITH T2.Name AS Name, count(T1.Stadium_ID) AS count\\nRETURN Name,count',\n",
       "   'syntactic_error': False}],\n",
       " 'total_scores': {'count': 1, 'exec': 1.0}}"
      ]
     },
     "execution_count": 2,
     "metadata": {},
     "output_type": "execute_result"
    }
   ],
   "source": [
    "from evaluation import evaluate\n",
    "evaluate([], [], graph, 'all')"
   ]
  }
 ],
 "metadata": {
  "kernelspec": {
   "display_name": "Python 3.8.10 64-bit",
   "language": "python",
   "name": "python3"
  },
  "language_info": {
   "codemirror_mode": {
    "name": "ipython",
    "version": 3
   },
   "file_extension": ".py",
   "mimetype": "text/x-python",
   "name": "python",
   "nbconvert_exporter": "python",
   "pygments_lexer": "ipython3",
   "version": "3.8.10"
  },
  "orig_nbformat": 4,
  "vscode": {
   "interpreter": {
    "hash": "916dbcbb3f70747c44a77c7bcd40155683ae19c65e1c03b4aa3499c5328201f1"
   }
  }
 },
 "nbformat": 4,
 "nbformat_minor": 2
}
